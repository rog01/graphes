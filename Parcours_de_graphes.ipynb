{
 "cells": [
  {
   "cell_type": "markdown",
   "metadata": {},
   "source": [
    "### AI Developer in wonderland !! \"Late, always late !\"\n",
    "Parcours de graphes : Dijstra et labyrinthe"
   ]
  },
  {
   "cell_type": "markdown",
   "metadata": {},
   "source": [
    "#### Parcours d'un graphe en profondeur:\n",
    "DFS (Depth First Search)"
   ]
  },
  {
   "cell_type": "raw",
   "metadata": {},
   "source": [
    "Les variables utilisées : \n",
    "    \n",
    "    Un dictionaire P tel que, en fin de parcours, pour tout sommet S du graphe, P[S] sera le père de S, c'est-à-dire le sommet à partir duquel le sommet S a été découvert lors que parcours.\n",
    "    Une liste Q utilisée comme pile (LIFO).\n",
    "\n",
    "Un déroulement de la fonction avec l'appel dfs(G, 'g'):"
   ]
  },
  {
   "cell_type": "code",
   "execution_count": 469,
   "metadata": {},
   "outputs": [],
   "source": [
    "import random\n",
    "\n",
    "def dfs(G,s) :\n",
    "    P,Q={s :None},[s]\n",
    "    while Q :\n",
    "        u=Q[-1]\n",
    "        R=[y for y in G[u] if y not in P]\n",
    "        if R :\n",
    "            v=random.choice(R)\n",
    "            P[v]=u\n",
    "            Q.append(v)\n",
    "        else :\n",
    "            Q.pop()\n",
    "    return P"
   ]
  },
  {
   "cell_type": "code",
   "execution_count": 470,
   "metadata": {},
   "outputs": [],
   "source": [
    "G = dict()\n",
    "G['a'] = ['b','c']\n",
    "G['b'] = ['a','d','e']\n",
    "G['c'] = ['a','d']\n",
    "G['d'] = ['b','c','e']\n",
    "G['e'] = ['b','d','f','g']\n",
    "G['f'] = ['e','g']\n",
    "G['g'] = ['e','f','h']\n",
    "G['h'] = ['g']"
   ]
  },
  {
   "cell_type": "code",
   "execution_count": 471,
   "metadata": {
    "scrolled": true
   },
   "outputs": [
    {
     "data": {
      "text/plain": [
       "{'g': None,\n",
       " 'f': 'g',\n",
       " 'e': 'f',\n",
       " 'd': 'e',\n",
       " 'c': 'd',\n",
       " 'a': 'c',\n",
       " 'b': 'a',\n",
       " 'h': 'g'}"
      ]
     },
     "execution_count": 471,
     "metadata": {},
     "output_type": "execute_result"
    }
   ],
   "source": [
    "dfs(G, 'g')"
   ]
  },
  {
   "cell_type": "markdown",
   "metadata": {},
   "source": [
    "#### Parcours en largeur: \n",
    "(Breadth First Search)\n",
    "Une liste Q utilisée comme file (FIFO) : on enfile un sommet lorsqu'il est découvert et on le défile lorsqu'il est terminé (traitement prioritaire des sommets découverts au plus tôt)."
   ]
  },
  {
   "cell_type": "code",
   "execution_count": 472,
   "metadata": {},
   "outputs": [],
   "source": [
    "def bfs(G,s) :\n",
    "    P,Q={s :None},[s]\n",
    "    while Q :\n",
    "        u=Q.pop(0)\n",
    "        for v in G[u] :\n",
    "            if v in P : continue\n",
    "            P[v]=u\n",
    "            Q.append(v)\n",
    "    return P"
   ]
  },
  {
   "cell_type": "code",
   "execution_count": 473,
   "metadata": {},
   "outputs": [
    {
     "data": {
      "text/plain": [
       "{'b': None,\n",
       " 'a': 'b',\n",
       " 'd': 'b',\n",
       " 'e': 'b',\n",
       " 'c': 'a',\n",
       " 'f': 'e',\n",
       " 'g': 'e',\n",
       " 'h': 'g'}"
      ]
     },
     "execution_count": 473,
     "metadata": {},
     "output_type": "execute_result"
    }
   ],
   "source": [
    "bfs(G,'b')"
   ]
  },
  {
   "cell_type": "markdown",
   "metadata": {},
   "source": [
    "#### Dijstra :"
   ]
  },
  {
   "cell_type": "raw",
   "metadata": {},
   "source": [
    "L'algorithme de dijstra permet de trouver le chemin le plus court vers un sommet quelconque du graphe"
   ]
  },
  {
   "cell_type": "code",
   "execution_count": 474,
   "metadata": {},
   "outputs": [
    {
     "data": {
      "image/png": "[encoded data removed]",
      "text/plain": [
       "<Figure size 432x288 with 1 Axes>"
      ]
     },
     "metadata": {},
     "output_type": "display_data"
    },
    {
     "name": "stdout",
     "output_type": "stream",
     "text": [
      "etape : 1\n",
      "Les chemins possibles sont : {'A': 0, 'B': {'A': 2}, 'C': {'A': 1}}\n",
      "les destinations avec le nouveau sommet seléctionné et la distance totale sont : {'A': 0, 'C': 1}\n",
      "la distance est : 1\n",
      "etape : 2\n",
      "Les chemins possibles sont : {'B': {'A': 2}, 'C': {'A': 1}, 'D': {'C': 5}, 'E': {'C': 4}, 'F': {'C': 6}}\n",
      "les destinations avec le nouveau sommet seléctionné et la distance totale sont : {'A': 0, 'C': 1, 'B': 2}\n",
      "la distance est : 2\n",
      "etape : 3\n",
      "Les chemins possibles sont : {'B': {'A': 2}, 'D': {'B': 3}, 'E': {'C': 4}, 'F': {'C': 6}}\n",
      "les destinations avec le nouveau sommet seléctionné et la distance totale sont : {'A': 0, 'C': 1, 'B': 2, 'D': 3}\n",
      "la distance est : 3\n",
      "etape : 4\n",
      "Les chemins possibles sont : {'D': {'B': 3}, 'E': {'C': 4}, 'F': {'C': 6}, 'G': {'D': 8}}\n",
      "les destinations avec le nouveau sommet seléctionné et la distance totale sont : {'A': 0, 'C': 1, 'B': 2, 'D': 3, 'E': 4}\n",
      "la distance est : 4\n",
      "etape : 5\n",
      "Les chemins possibles sont : {'E': {'C': 4}, 'F': {'E': 5}, 'G': {'D': 8}}\n",
      "les destinations avec le nouveau sommet seléctionné et la distance totale sont : {'A': 0, 'C': 1, 'B': 2, 'D': 3, 'E': 4, 'F': 5}\n",
      "la distance est : 5\n",
      "etape : 6\n",
      "Les chemins possibles sont : {'F': {'E': 5}, 'G': {'F': 7}}\n",
      "les destinations avec le nouveau sommet seléctionné et la distance totale sont : {'A': 0, 'C': 1, 'B': 2, 'D': 3, 'E': 4, 'F': 5, 'G': 7}\n",
      "la distance est : 7\n",
      "les chemins les plus courts sont :  {'A': 0, 'B': {'A': 2}, 'C': {'A': 1}, 'D': {'B': 3}, 'E': {'C': 4}, 'F': {'E': 5}, 'G': {'F': 7}}\n",
      "Voici le chemin le plus court : ['A', 'C', 'E', 'F', 'G']\n",
      "et la distance est de : 7\n"
     ]
    }
   ],
   "source": [
    "import copy\t\n",
    "import matplotlib.pyplot as plt\n",
    "\n",
    "Graphe_ = { \n",
    "      'A':{'B':2, 'C':1}, \n",
    "      'B':{'A':2, 'C':2, 'D':1, 'E':3}, \n",
    "      'C':{'A':1, 'B':2, 'D':4, 'E':3, 'F':5}, \n",
    "      'D':{'B':1, 'C':4, 'E':3, 'F':6, 'G':5}, \n",
    "      'E':{'B':3, 'C':3, 'D':3, 'F':1}, \n",
    "      'F':{'C':5, 'D':6, 'E':1, 'G':2}, \n",
    "      'G':{'D':5, 'F':2} \n",
    "      }\n",
    "\n",
    "Graphe2 = { \n",
    "      'A':{'E':14,'B':7}, \n",
    "      'B':{'C':8}, \n",
    "      'C':{'D':6}, \n",
    "      'D':{'A':18, 'F':11}, \n",
    "      'E':{'F':19}, \n",
    "      'F':{'G':4, 'H':13}, \n",
    "      'G':{'C':5, 'H':8},\n",
    "      'H':{'C':9} \n",
    "      }\n",
    "\n",
    "# noeuds = Graphe_\n",
    "# arcs   = {('A', 'B'): None,('A', 'C'): None}\n",
    "\n",
    "import networkx as nx\n",
    "from networkx.drawing.nx_pydot import graphviz_layout\n",
    "\n",
    "def plot_graph(Graph):\n",
    "    \n",
    "    g = nx.Graph()\n",
    "    g.add_nodes_from(list(Graph))\n",
    "    for node, edges in Graph.items():\n",
    "        g.add_edges_from(([(node, edge) for edge in edges]))\n",
    "    return nx.draw_networkx(g)\n",
    "\n",
    "fig1 = plot_graph(Graphe_)\n",
    "plt.show()\n",
    "\n",
    "class graph:\n",
    "       \n",
    "    def dijstra(graphe, debut,fin):\n",
    "        graph = copy.deepcopy(graphe)\n",
    "        dist = 0    \n",
    "        s_sel = copy.deepcopy(debut)  # chemin sélectionné   \n",
    "        chemins = {s_sel:0}\n",
    "        chemins_save = copy.deepcopy(chemins)    \n",
    "        destinations = {s_sel:dist}\n",
    "        sommets=[s_sel] # liste des sommets sélectionnés\n",
    "        first = True\n",
    "        for i in range(len(graph.items())-1):\n",
    "            if s_sel != fin:\n",
    "                #mise à jour de chemin\n",
    "                for s, d in graph[s_sel].items():\n",
    "                    if s not in chemins :            \n",
    "                        chemins[s] = {s_sel:dist+d}\n",
    "                        chemins_save[s] = {s_sel:dist+d}\n",
    "                    for k , v in chemins[s].items():\n",
    "                        if v > dist+d:\n",
    "                            chemins[s] = {s_sel:dist+d} \n",
    "                            chemins_save[s] = {s_sel:dist+d} \n",
    "                        # chemins = {'A':0,'B':{'A':2},'C':{'A':1}}\n",
    "                        # On peut aller vers B venant de A et la distance est de de 2\n",
    "                        # On peut aller vers C venant de A et la distance est de 1\n",
    "                print('etape :',i+1)\n",
    "                print('Les chemins possibles sont :',chemins)\n",
    "                #supprimer les sommets dejà parcourus\n",
    "                for s in sommets:\n",
    "                    if s in chemins:\n",
    "                        del(chemins[s])\n",
    "                #trouver le min dans la liste des sommets possibles\n",
    "                for s, d in chemins.items():\n",
    "                    for k, v in d.items():\n",
    "                        if first == True:\n",
    "                            first = False\n",
    "                            val_min = copy.deepcopy(v)\n",
    "                        if v <= val_min:\n",
    "                            val_min = v\n",
    "                            s_sel_new = s\n",
    "                first = True\n",
    "                sommets.append(s_sel_new) #sommets à ignorer deja parcourus \n",
    "                dist = val_min\n",
    "                for dest in destinations:\n",
    "                    if dest in graph[s_sel_new]:\n",
    "                        del graph[s_sel_new][dest]        \n",
    "                destinations[s_sel_new]=dist #rajout du sommet selectionné et de la distance totale\n",
    "                s_sel=s_sel_new    \n",
    "                print('les destinations avec le nouveau sommet seléctionné et la distance totale sont :', destinations)\n",
    "                print('la distance est :', dist)\n",
    "        print('les chemins les plus courts sont : ',chemins_save)\n",
    "        #pour retrouver le chemin le plus court dans chemins_save\n",
    "        parcours = [fin]\n",
    "        while k != debut:\n",
    "            for k,v in chemins_save[fin].items():\n",
    "                parcours.append(k)\n",
    "            fin = k\n",
    "        if len(parcours) == 1:\n",
    "            parcours.append(debut)\n",
    "        print('Voici le chemin le plus court :',parcours[::-1])\n",
    "        print('et la distance est de :',dist)            \n",
    "        \n",
    "        return parcours[::-1],dist\n",
    "\n",
    "shortest , dist = graph.dijstra(Graphe_,'A','G')\n",
    "#print(shortest)\n",
    "#print(dist)"
   ]
  },
  {
   "cell_type": "markdown",
   "metadata": {},
   "source": [
    "#### Labyrinthe : "
   ]
  },
  {
   "cell_type": "raw",
   "metadata": {},
   "source": [
    "Créer une application permettant de générer de manière aléatoire un labyrinthe (l’utilisateur pourra décider de la taille du labyrinthe généré, par exemple 10x10 ou 50x100) et permettant également de résoudre le labyrinthe."
   ]
  },
  {
   "cell_type": "markdown",
   "metadata": {},
   "source": [
    "##### Création du labyrinthe : \n",
    "Méthode de fusion de cellules avec matrices"
   ]
  },
  {
   "cell_type": "raw",
   "metadata": {},
   "source": [
    "On part d'une matrice de taille (x,y) (ligne, colonne) dans laquelle les valeurs sont une suite de nombre entre 0 et x*y-1\n",
    "On crée une matrice de taille (2x+1, 2y+1) de 0 qui represente les murs \n",
    "On fusionne de facon aleatoire 2 cellules voisines de cette matrice en supprimant le mur qui le sépare quand les numéros des cellules sont différentes"
   ]
  },
  {
   "cell_type": "code",
   "execution_count": 475,
   "metadata": {
    "scrolled": true
   },
   "outputs": [
    {
     "name": "stdout",
     "output_type": "stream",
     "text": [
      "([[0, 0, 0, 0, 0], [2, 1, 1, 1, 3], [0, 1, 0, 0, 0], [0, 1, 1, 1, 0], [0, 0, 0, 0, 0]], [[0, 0, 0, 0, 0], [2, 1, 1, 1, 3], [0, 1, 0, 0, 0], [0, 1, 1, 1, 0], [0, 0, 0, 0, 0]])\n",
      "2 correspond à l'entree, 3 la sortie, 0 un mur et 1 une cellule\n"
     ]
    }
   ],
   "source": [
    "import random\n",
    "import numpy as np\n",
    "import copy\n",
    "\n",
    "# Fusion aléatoire\n",
    "\n",
    "def lab_new(X, Y):\n",
    "    global wall_cell\n",
    "    dir_x = {'N':0,'S':0,'E':1,'O':-1}\n",
    "    dir_y = {'N':1,'S':-1,'E':0,'O':0}\n",
    "    lab = [[(x+X*y) for x in range(X)] for y in range(Y)]\n",
    "    wall_cell = [[0 for x in range(2*X+1)] for y in range(2*Y+1)]\n",
    "    for y in range(len(wall_cell)-1):\n",
    "        for x in range(len(wall_cell[y])-1):\n",
    "            if x % 2 != 0 and y % 2 != 0:\n",
    "                wall_cell[y][x] = 1\n",
    "\n",
    "    wall_opened = 0\n",
    "\n",
    "    while wall_opened < X*Y-1:\n",
    "        (cellx, celly) = ((random.randrange(X)), (random.randrange(Y)))\n",
    "        sens = random.choice(['N','S','O','E'])\n",
    "        newcellx = cellx + dir_x[sens]\n",
    "        newcelly = celly + dir_y[sens]\n",
    "        if newcellx >= 0 and newcellx < X and newcelly >= 0 and newcelly < Y:\n",
    "            if lab[newcelly][newcellx] != lab[celly][cellx]:\n",
    "                #creation d'un chemin entre 2 cellules voisines\n",
    "                wall_cell[celly+newcelly+1][cellx+newcellx+1] = 1\n",
    "                value = lab[newcelly][newcellx]\n",
    "                for y in range(Y):\n",
    "                    for x in range(X):\n",
    "                        if lab[y][x] == value:\n",
    "                            lab[y][x] = lab[celly][cellx]\n",
    "                wall_opened += 1\n",
    "    #choix aleatoire des entree / sortie \n",
    "    choice  = random.randrange(2)\n",
    "    if choice == 0:\n",
    "        #option Nord / sud:\n",
    "        wall_cell[0][2*random.randrange(X)+1] = 2  \n",
    "        wall_cell[2*Y][2*random.randrange(X)+1] = 3  \n",
    "    else :\n",
    "        #option Est / Ouest:\n",
    "        wall_cell[2*random.randrange(Y)+1][0] = 2  \n",
    "        wall_cell[2*random.randrange(Y)+1][2*X] = 3  \n",
    "    \n",
    "    wall_cell_save = copy.deepcopy(wall_cell)    \n",
    "    return wall_cell, wall_cell_save\n",
    "\n",
    "wall_cell = lab_new(2, 2)\n",
    "print(wall_cell)\n",
    "print('2 correspond à l\\'entree, 3 la sortie, 0 un mur et 1 une cellule')"
   ]
  },
  {
   "cell_type": "code",
   "execution_count": 414,
   "metadata": {},
   "outputs": [],
   "source": [
    "# Fonction pour se déplacer dans le labyrinthe\n",
    "def move(i,x,y, location, xWindow, yWindow, wall_cell):\n",
    "    global finish   \n",
    "    case = [(y-1),(y+1),(x-1),(x+1)]\n",
    "    wall_cell[y][x] = 4\n",
    "    if (case[i] >= 0 or case[i] < yWindow / 10) and (i == 0 or i == 1):\n",
    "    #On vérifie si la futur position est vide (au quel cas on pourra se déplacer)\n",
    "        if wall_cell[case[i]][x] == 1:\n",
    "            wall_cell[case[i]][x] = 2 #entrée dans une nouvelle cellule\n",
    "            location.append((x,case[i]))#on rajoute la cellule visitée\n",
    "        # Fin de l'algo\n",
    "        elif wall_cell[case[i]][x] == 3:\n",
    "            finish = True\n",
    "        if i == 0:#  up        \n",
    "            if wall_cell[case[i]][x] in [4,5]:\n",
    "                wall_cell[case[i]-3][x] = 2 #entrée dans une nouvelle cellule\n",
    "                location.append((x,case[i]-3))\n",
    "        elif i == 1: #down\n",
    "            if wall_cell[case[i]][x] in [4,5]:\n",
    "                wall_cell[case[i]+3][x] = 2\n",
    "                location.append((x,case[i]+3))\n",
    "    if (case[i] >= 0 or case[i] < xWindow / 10) and (i == 2 or i == 3):\n",
    "        #On vérifie si la futur position est vide (au quel cas on pourra se déplacer)\n",
    "        if wall_cell[y][case[i]] == 1:\n",
    "            wall_cell[y][case[i]] = 2\n",
    "            location.append((case[i],y))\n",
    "        # Fin de l'algo\n",
    "        elif wall_cell[y][case[i]] == 3:\n",
    "            finish = True                 \n",
    "        if wall_cell[y][case[i]] in [4,5]:   \n",
    "            if i == 2:#  left \n",
    "                wall_cell[y][case[i]-3] = 2\n",
    "                location.append((case[i]-3,y))\n",
    "            elif i == 3:#  right  \n",
    "                wall_cell[y][case[i]+3] = 2\n",
    "                location.append((case[i]+3,y))"
   ]
  },
  {
   "cell_type": "raw",
   "metadata": {},
   "source": [
    "La taille max du labyrinthe est de 60 * 120 (ligne,colonne), le programme se lance avec window(60,30)"
   ]
  },
  {
   "cell_type": "code",
   "execution_count": 478,
   "metadata": {
    "scrolled": false
   },
   "outputs": [
    {
     "name": "stdout",
     "output_type": "stream",
     "text": [
      "time_to_find_exit : 75.52\n"
     ]
    }
   ],
   "source": [
    "import pygame\n",
    "from pygame.locals import *\n",
    "\n",
    "import random\n",
    "import time\n",
    "from time import time\n",
    "\n",
    "pygame.init()\n",
    "clock = pygame.time.Clock()\n",
    "\n",
    "X_direction = {'N':0,'S':0,'E':1,'O':-1}\n",
    "Y_direction = {'N':-1,'S':1,'E':0,'O':0}\n",
    "on = True\n",
    "end = False\n",
    "delay = 0\n",
    "one = True\n",
    "\n",
    "def window(x, y):\n",
    "    global wall_cell, xWindow, yWindow, window, wall_cell_save\n",
    "    #creation du labyrinthe\n",
    "    wall_cell, wall_cell_save = lab_new(x,y)\n",
    "    # Pour tester l'algo \"move_strategy\" (A droite d'abord ...) sur le meme labyrinthe commentez la ligne precedente\n",
    "    # et decommenter la ligne suivante et faites de meme sur le ligne \"random.choice\"\n",
    "    #wall_cell = wall_cell_save\n",
    "    xWindow = x*20+10\n",
    "    yWindow = y*20+10\n",
    "    window = pygame.display.set_mode( (xWindow, yWindow) )\n",
    "    return wall_cell\n",
    "   \n",
    "window(60,30)\n",
    "\n",
    "one = True\n",
    "\n",
    "def colorset(color):\n",
    "    rect = pygame.Rect(x*10, y*10, 10, 10)\n",
    "    pygame.draw.rect(window, (color), rect)\n",
    "\n",
    "colors = [(206,206,206),(255,255,255),(0,128,0),(240,128,128),(176,242,162),(226,252,251)]\n",
    "\n",
    "start = time()\n",
    "\n",
    "# 0 => mur\n",
    "# 1 => cellule\n",
    "# On travaille avec des matrices wall_cell (labyrinthe)  et ici x => colonnes et y => lignes\n",
    "\n",
    "while on:\n",
    "    # On affiche à 60 hz sur fond blanc\n",
    "    clock.tick(60)\n",
    "    window.fill((255,255,255))\n",
    "    # Actualisation de l'affichage du labyrinthe\n",
    "    for y in range(len(wall_cell)): \n",
    "        for x in range(len(wall_cell[y])):\n",
    "                if wall_cell[y][x] == 2:# entrée\n",
    "                    if one == True:\n",
    "                        location = [(x, y)] # initialisation de location (tuple) au demarrage                        \n",
    "                        one = False\n",
    "                    colorset(colors[2])                \n",
    "                elif wall_cell[y][x] == 3:#sortie vert fonce\n",
    "                    colorset(colors[3]) \n",
    "                elif wall_cell[y][x] == 0:#mur gris\n",
    "                    colorset(colors[0])\n",
    "                elif wall_cell[y][x] == 1:#cellule blanc\n",
    "                    colorset(colors[1])\n",
    "                elif wall_cell[y][x] == 4:#chemin vert clair\n",
    "                    colorset(colors[4])\n",
    "                elif wall_cell[y][x] == 5:#retour bleu clair\n",
    "                    colorset(colors[5])\n",
    "    if end == False:\n",
    "        if location != []:\n",
    "            (px, py) = location[-1]\n",
    "            dir_neighbour = [] \n",
    "            # Tant que l'on ne trouve pas la cellule fin on continue\n",
    "            for direction in ['N','S','O','E']:\n",
    "                # A chaque etape, on verifie les cellules alentours\n",
    "                nvx = px + X_direction[direction]\n",
    "                nvy = py + Y_direction[direction]\n",
    "                if nvx >= 0 and nvx < xWindow/10 and nvy >= 0 and nvy < yWindow/10:\n",
    "                    # Cellule non visitée , on l'ajoute comme une cellule à visiter\n",
    "                    if wall_cell[nvy][nvx] == 1: \n",
    "                        dir_neighbour.append(direction)\n",
    "                    # Fin de l'algo\n",
    "                    if wall_cell[nvy][nvx] == 3:\n",
    "                        end = True\n",
    "                        time_to_find_exit = time() - start\n",
    "                        print('time_to_find_exit :',round(time_to_find_exit,2))\n",
    "                        break\n",
    "            if len(dir_neighbour) > 0:                                                \n",
    "                # S'il reste des cellules a visiter , on en choisit une au hasard\n",
    "                d = random.choice(dir_neighbour)\n",
    "                # Autre strategie de deplacement (privilegie le deplacement d'abord à droite, tout enfin a gauche)\n",
    "                #d = move_strategy(location,dir_neighbour)\n",
    "                if d == 'N':\n",
    "                    i=0\n",
    "                elif d == 'S':\n",
    "                    i=1\n",
    "                elif d == 'O':\n",
    "                    i=2\n",
    "                elif d == 'E':\n",
    "                    i=3                    \n",
    "                move(i,px, py, location, xWindow, yWindow, wall_cell)\n",
    "            else:                                                               \n",
    "                # Sinon on recule d'une cellule et on note la cellule précédente comme deja visitée\n",
    "                (tx, ty) = location.pop()#on enleve de location la cellule visitée\n",
    "                # A la fin de l'algo location contient les coordonnées x,y du chemin de sortie du labyrinthe\n",
    "                wall_cell[ty][tx] = 5                \n",
    "    # Gestion de l'affichage    \n",
    "    pygame.display.flip() \n",
    "    for event in pygame.event.get():        \n",
    "        if event.type == QUIT or (event.type == KEYUP and event.key == K_ESCAPE):\n",
    "            on = False    \n",
    "pygame.quit()"
   ]
  },
  {
   "cell_type": "raw",
   "metadata": {},
   "source": [
    "Sur une taille du labyrinthe de 10 * 10 les résultats varient entre 0.2 et 1 seconde\n",
    "Sur la taille max du labyrinthe de 60 * 120 les résultats varient entre 13 et 120 secondes"
   ]
  },
  {
   "cell_type": "raw",
   "metadata": {},
   "source": [
    "Nouvelle stratégie de déplacement (à la place du déplacement aléatoire) :\n",
    "    \"Pour respecter les conditions de l’exploration, il va privilégier de tourner à droite, mais s’il tombe sur un mur, il choisira d’aller devant, et s’il tombe encore sur un mur, il ira à gauche. Enfin, s’il tombe sur un cul-de-sac, il fera demi-tour.\""
   ]
  },
  {
   "cell_type": "code",
   "execution_count": 477,
   "metadata": {},
   "outputs": [],
   "source": [
    "def move_strategy(location,dir_neighbour):\n",
    "    # Sens du deplacement\n",
    "    # location :\n",
    "    # Si (0, 17), (1, 17) => deplacement horizontal suivant x (y fixe)  vers l'Est : x = x+1\n",
    "    # Si (1, 17), (0, 17) => deplacement horizontal suivant x (y fixe)  vers l'Ouest : x = x-1\n",
    "    # Si (1, 17), (1, 16) => deplacement vertical suivant y (x fixe)  vers le Nord : y = y-1\n",
    "    # Si (0, 15), (1, 16) => deplacement vertical suivant y (x fixe) vers le Sud : x = y+1\n",
    "    if len (location) > 1:\n",
    "        y1,x1 = location[-2]\n",
    "        y2,x2 = location[-1]\n",
    "        if y1-y2 == -1 and x1-x2 == 0:\n",
    "            sens_deplacement = 'E'\n",
    "            dir_choice = ['S','E','N','O']\n",
    "        elif y1-y2 == 1 and x1-x2 == 0:\n",
    "            sens_deplacement = 'O'\n",
    "            dir_choice = ['N','O','S','E']\n",
    "        elif y1-y2 == 0 and x1-x2 == 1:\n",
    "            sens_deplacement = 'N'\n",
    "            dir_choice = ['E','N','O','S']\n",
    "        elif y1-y2 == 0 and x1-x2 == -1:\n",
    "            sens_deplacement = 'S'\n",
    "            dir_choice = ['O','S','E','N']\n",
    "        \n",
    "        for choice in  dir_choice:\n",
    "            if choice in dir_neighbour:\n",
    "                d = choice \n",
    "    else :\n",
    "        d = dir_neighbour[0]\n",
    "            \n",
    "    return d"
   ]
  },
  {
   "cell_type": "raw",
   "metadata": {},
   "source": [
    "Sur 10 labyrinthes différents de taille 60 x 120,les rèsultats en terme de temps d'execution des 2 algorithmes de recherche de chemin de sortie (random et d'abord à droite) sont quasimment équivalents , en moyenne respectivement 53 secondes et 60s \n",
    "Sur l'ensemble des 10 tests , le random est lègèrement plus rapide (6 / 10)"
   ]
  },
  {
   "cell_type": "code",
   "execution_count": null,
   "metadata": {},
   "outputs": [],
   "source": []
  }
 ],
 "metadata": {
  "kernelspec": {
   "display_name": "Python 3",
   "language": "python",
   "name": "python3"
  },
  "language_info": {
   "codemirror_mode": {
    "name": "ipython",
    "version": 3
   },
   "file_extension": ".py",
   "mimetype": "text/x-python",
   "name": "python",
   "nbconvert_exporter": "python",
   "pygments_lexer": "ipython3",
   "version": "3.7.9"
  }
 },
 "nbformat": 4,
 "nbformat_minor": 4
}
